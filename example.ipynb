{
 "cells": [
  {
   "cell_type": "markdown",
   "metadata": {},
   "source": [
    "## Setup evnironment"
   ]
  },
  {
   "cell_type": "code",
   "execution_count": 1,
   "metadata": {},
   "outputs": [],
   "source": [
    "import os\n",
    "import numpy as np\n",
    "import pandas as pd\n",
    "import json\n",
    "from skimage.io import imread"
   ]
  },
  {
   "cell_type": "code",
   "execution_count": 2,
   "metadata": {},
   "outputs": [],
   "source": [
    "from psf import compute, plotPSF"
   ]
  },
  {
   "cell_type": "markdown",
   "metadata": {},
   "source": [
    "## Setup plotting"
   ]
  },
  {
   "cell_type": "code",
   "execution_count": 3,
   "metadata": {},
   "outputs": [],
   "source": [
    "import matplotlib.pyplot as plt\n",
    "%matplotlib inline\n",
    "import seaborn as sns\n",
    "sns.set_context('paper', font_scale=2.0)\n",
    "sns.set_style('ticks')"
   ]
  },
  {
   "cell_type": "code",
   "execution_count": 4,
   "metadata": {},
   "outputs": [],
   "source": [
    "from ipywidgets import interactive\n",
    "from ipywidgets import IntSlider\n",
    "from IPython.display import display"
   ]
  },
  {
   "cell_type": "markdown",
   "metadata": {},
   "source": [
    "## Define parameters"
   ]
  },
  {
   "cell_type": "code",
   "execution_count": 5,
   "metadata": {},
   "outputs": [],
   "source": [
    "FOVumLat = 61.0\n",
    "FOVpxLat = 512.0 # 512\n",
    "pxPerUmLat = FOVpxLat/FOVumLat\n",
    "pxPerUmAx = 2.0 # 2.0\n",
    "wavelength = 970.0\n",
    "NA = 0.6\n",
    "windowUm = [12, 2, 2]\n",
    "options = {'FOVumLat':FOVumLat, 'FOVpxLat':FOVpxLat, 'pxPerUmLat':FOVpxLat/FOVumLat, 'pxPerUmAx':pxPerUmAx, 'wavelength':970.0, 'NA':0.6, 'windowUm':windowUm}\n",
    "options['thresh'] = .05"
   ]
  },
  {
   "cell_type": "code",
   "execution_count": 13,
   "metadata": {},
   "outputs": [
    {
     "data": {
      "text/plain": [
       "{'FOVpxLat': 512.0,\n",
       " 'FOVumLat': 61.0,\n",
       " 'NA': 0.6,\n",
       " 'pxPerUmAx': 2.0,\n",
       " 'pxPerUmLat': 8.39344262295082,\n",
       " 'thresh': 0.05,\n",
       " 'wavelength': 970.0,\n",
       " 'windowUm': [12, 2, 2]}"
      ]
     },
     "execution_count": 13,
     "metadata": {},
     "output_type": "execute_result"
    }
   ],
   "source": [
    "options"
   ]
  },
  {
   "cell_type": "markdown",
   "metadata": {},
   "source": [
    "## Get PSF"
   ]
  },
  {
   "cell_type": "code",
   "execution_count": 6,
   "metadata": {},
   "outputs": [],
   "source": [
    "im = imread('./data/images.tif', plugin='tifffile')"
   ]
  },
  {
   "cell_type": "code",
   "execution_count": 7,
   "metadata": {},
   "outputs": [
    {
     "data": {
      "text/plain": [
       "array([[[ 5, 10,  4, ..., 11,  3,  3],\n",
       "        [ 8,  5,  2, ...,  7,  7,  4],\n",
       "        [ 3,  1,  5, ...,  3,  5,  3],\n",
       "        ...,\n",
       "        [ 4,  5,  2, ...,  8,  9,  3],\n",
       "        [ 2,  4,  3, ...,  6,  9,  8],\n",
       "        [ 3,  8,  3, ...,  2,  3,  5]],\n",
       "\n",
       "       [[ 7,  4,  3, ...,  6,  6,  4],\n",
       "        [10,  7,  4, ...,  5,  8,  6],\n",
       "        [ 4,  8,  2, ...,  3,  5,  6],\n",
       "        ...,\n",
       "        [ 4,  4,  5, ...,  4, 10,  7],\n",
       "        [ 5,  3,  4, ...,  5,  2,  6],\n",
       "        [ 7,  4,  7, ...,  4,  3,  3]],\n",
       "\n",
       "       [[ 6,  6,  3, ...,  2,  5,  4],\n",
       "        [10,  5,  4, ...,  9,  7,  5],\n",
       "        [ 3,  3,  6, ...,  7,  5,  4],\n",
       "        ...,\n",
       "        [ 6,  4,  4, ...,  5,  3,  6],\n",
       "        [ 4,  3,  4, ...,  8,  6,  1],\n",
       "        [10, 11,  3, ...,  3,  6,  4]],\n",
       "\n",
       "       ...,\n",
       "\n",
       "       [[ 2,  5,  6, ...,  3,  5,  3],\n",
       "        [ 5,  5,  4, ...,  4,  5,  2],\n",
       "        [ 5,  2,  6, ...,  3,  6,  6],\n",
       "        ...,\n",
       "        [ 2,  6,  2, ...,  2,  7,  4],\n",
       "        [ 2,  3,  4, ..., 13,  5,  5],\n",
       "        [ 8,  5, 11, ...,  6,  3,  4]],\n",
       "\n",
       "       [[ 5,  5,  6, ...,  0,  7, 10],\n",
       "        [ 5,  6,  4, ...,  0,  6,  6],\n",
       "        [ 4,  4,  6, ...,  2,  6,  4],\n",
       "        ...,\n",
       "        [ 6,  4,  1, ...,  5,  2,  8],\n",
       "        [ 8,  8, 15, ..., 10,  6,  1],\n",
       "        [ 3, 14,  9, ...,  7,  8,  3]],\n",
       "\n",
       "       [[ 3,  3,  7, ...,  5,  3,  5],\n",
       "        [ 5,  4,  7, ..., 10,  2,  7],\n",
       "        [ 5,  7,  6, ...,  6,  8,  4],\n",
       "        ...,\n",
       "        [ 6,  5,  3, ...,  5,  6,  5],\n",
       "        [ 6, 12,  2, ...,  7,  8,  4],\n",
       "        [ 8,  3,  1, ...,  4,  5,  4]]], dtype=int16)"
      ]
     },
     "execution_count": 7,
     "metadata": {},
     "output_type": "execute_result"
    }
   ],
   "source": [
    "im"
   ]
  },
  {
   "cell_type": "code",
   "execution_count": 8,
   "metadata": {},
   "outputs": [],
   "source": [
    "data, beads, maxima, centers, smoothed = compute(im, options)"
   ]
  },
  {
   "cell_type": "code",
   "execution_count": 9,
   "metadata": {},
   "outputs": [],
   "source": [
    "PSF = pd.concat([x[0] for x in data])\n",
    "PSF['Max'] = maxima\n",
    "PSF = PSF.reset_index().drop(['index'],axis=1)\n",
    "latProfile = [x[1] for x in data]\n",
    "axProfile = [x[2] for x in data]"
   ]
  },
  {
   "cell_type": "code",
   "execution_count": 10,
   "metadata": {
    "scrolled": false
   },
   "outputs": [
    {
     "data": {
      "text/html": [
       "<div>\n",
       "<style scoped>\n",
       "    .dataframe tbody tr th:only-of-type {\n",
       "        vertical-align: middle;\n",
       "    }\n",
       "\n",
       "    .dataframe tbody tr th {\n",
       "        vertical-align: top;\n",
       "    }\n",
       "\n",
       "    .dataframe thead th {\n",
       "        text-align: right;\n",
       "    }\n",
       "</style>\n",
       "<table border=\"1\" class=\"dataframe\">\n",
       "  <thead>\n",
       "    <tr style=\"text-align: right;\">\n",
       "      <th></th>\n",
       "      <th>FWHMlat</th>\n",
       "      <th>FWHMax</th>\n",
       "      <th>Max</th>\n",
       "    </tr>\n",
       "  </thead>\n",
       "  <tbody>\n",
       "    <tr>\n",
       "      <td>0</td>\n",
       "      <td>0.792801</td>\n",
       "      <td>5.659147</td>\n",
       "      <td>120</td>\n",
       "    </tr>\n",
       "    <tr>\n",
       "      <td>1</td>\n",
       "      <td>0.994335</td>\n",
       "      <td>4.519212</td>\n",
       "      <td>241</td>\n",
       "    </tr>\n",
       "    <tr>\n",
       "      <td>2</td>\n",
       "      <td>1.012285</td>\n",
       "      <td>4.460775</td>\n",
       "      <td>847</td>\n",
       "    </tr>\n",
       "    <tr>\n",
       "      <td>3</td>\n",
       "      <td>0.955870</td>\n",
       "      <td>4.509486</td>\n",
       "      <td>262</td>\n",
       "    </tr>\n",
       "    <tr>\n",
       "      <td>4</td>\n",
       "      <td>0.957120</td>\n",
       "      <td>4.526076</td>\n",
       "      <td>74</td>\n",
       "    </tr>\n",
       "    <tr>\n",
       "      <td>5</td>\n",
       "      <td>0.977617</td>\n",
       "      <td>4.488589</td>\n",
       "      <td>350</td>\n",
       "    </tr>\n",
       "    <tr>\n",
       "      <td>6</td>\n",
       "      <td>1.009600</td>\n",
       "      <td>5.046590</td>\n",
       "      <td>300</td>\n",
       "    </tr>\n",
       "    <tr>\n",
       "      <td>7</td>\n",
       "      <td>0.927706</td>\n",
       "      <td>4.929884</td>\n",
       "      <td>165</td>\n",
       "    </tr>\n",
       "    <tr>\n",
       "      <td>8</td>\n",
       "      <td>0.999875</td>\n",
       "      <td>4.315810</td>\n",
       "      <td>179</td>\n",
       "    </tr>\n",
       "    <tr>\n",
       "      <td>9</td>\n",
       "      <td>0.882628</td>\n",
       "      <td>5.202208</td>\n",
       "      <td>123</td>\n",
       "    </tr>\n",
       "    <tr>\n",
       "      <td>10</td>\n",
       "      <td>0.883606</td>\n",
       "      <td>5.502221</td>\n",
       "      <td>153</td>\n",
       "    </tr>\n",
       "    <tr>\n",
       "      <td>11</td>\n",
       "      <td>0.971968</td>\n",
       "      <td>4.633858</td>\n",
       "      <td>512</td>\n",
       "    </tr>\n",
       "    <tr>\n",
       "      <td>12</td>\n",
       "      <td>0.985331</td>\n",
       "      <td>4.450624</td>\n",
       "      <td>156</td>\n",
       "    </tr>\n",
       "    <tr>\n",
       "      <td>13</td>\n",
       "      <td>0.974878</td>\n",
       "      <td>4.567987</td>\n",
       "      <td>525</td>\n",
       "    </tr>\n",
       "  </tbody>\n",
       "</table>\n",
       "</div>"
      ],
      "text/plain": [
       "     FWHMlat    FWHMax  Max\n",
       "0   0.792801  5.659147  120\n",
       "1   0.994335  4.519212  241\n",
       "2   1.012285  4.460775  847\n",
       "3   0.955870  4.509486  262\n",
       "4   0.957120  4.526076   74\n",
       "5   0.977617  4.488589  350\n",
       "6   1.009600  5.046590  300\n",
       "7   0.927706  4.929884  165\n",
       "8   0.999875  4.315810  179\n",
       "9   0.882628  5.202208  123\n",
       "10  0.883606  5.502221  153\n",
       "11  0.971968  4.633858  512\n",
       "12  0.985331  4.450624  156\n",
       "13  0.974878  4.567987  525"
      ]
     },
     "execution_count": 10,
     "metadata": {},
     "output_type": "execute_result"
    }
   ],
   "source": [
    "PSF"
   ]
  },
  {
   "cell_type": "code",
   "execution_count": 22,
   "metadata": {},
   "outputs": [
    {
     "name": "stdout",
     "output_type": "stream",
     "text": [
      "14\n",
      "FWHMlat      0.951830\n",
      "FWHMax       4.772319\n",
      "Max        286.214286\n",
      "dtype: float64\n",
      "FWHMlat      0.061514\n",
      "FWHMax       0.425010\n",
      "Max        212.956904\n",
      "dtype: float64\n"
     ]
    }
   ],
   "source": [
    "print(len(PSF))\n",
    "print(PSF.mean())\n",
    "print(PSF.std())"
   ]
  },
  {
   "cell_type": "markdown",
   "metadata": {},
   "source": [
    "## Plot max projection"
   ]
  },
  {
   "cell_type": "code",
   "execution_count": 23,
   "metadata": {
    "scrolled": true
   },
   "outputs": [
    {
     "data": {
      "image/png": "[encoded data removed]",
      "text/plain": [
       "<Figure size 360x360 with 1 Axes>"
      ]
     },
     "metadata": {},
     "output_type": "display_data"
    }
   ],
   "source": [
    "plt.figure(figsize=(5,5));\n",
    "plt.imshow(smoothed);\n",
    "plt.plot(centers[:, 2], centers[:, 1], 'r.', ms=10);\n",
    "plt.xlim([0, smoothed.shape[0]])\n",
    "plt.ylim([smoothed.shape[1], 0])\n",
    "plt.axis('off');"
   ]
  },
  {
   "cell_type": "markdown",
   "metadata": {},
   "source": [
    "## Plot max projection"
   ]
  },
  {
   "cell_type": "code",
   "execution_count": 24,
   "metadata": {},
   "outputs": [],
   "source": [
    "beadInd = 1\n",
    "average = beads[beadInd]"
   ]
  },
  {
   "cell_type": "code",
   "execution_count": 46,
   "metadata": {},
   "outputs": [
    {
     "data": {
      "text/plain": [
       "1"
      ]
     },
     "execution_count": 46,
     "metadata": {},
     "output_type": "execute_result"
    }
   ],
   "source": [
    "simplest = lambda arg: arg\n",
    "simplest(1)"
   ]
  },
  {
   "cell_type": "code",
   "execution_count": 53,
   "metadata": {},
   "outputs": [
    {
     "data": {
      "application/vnd.jupyter.widget-view+json": {
       "model_id": "63828045c0544183b16dd3084a446bb2",
       "version_major": 2,
       "version_minor": 0
      },
      "text/plain": [
       "interactive(children=(IntSlider(value=24, description='i', max=47), Output()), _dom_classes=('widget-interact'…"
      ]
     },
     "metadata": {},
     "output_type": "display_data"
    }
   ],
   "source": [
    "plane = IntSlider(min=0, max=average.shape[0]-1, step=1, value=average.shape[0]/2)\n",
    "\n",
    "interactive(lambda i: plt.imshow(average[i]), i=plane)"
   ]
  },
  {
   "cell_type": "markdown",
   "metadata": {},
   "source": [
    "## Plot 2D slices"
   ]
  },
  {
   "cell_type": "code",
   "execution_count": 54,
   "metadata": {},
   "outputs": [
    {
     "data": {
      "image/png": "[encoded data removed]",
      "text/plain": [
       "<Figure size 432x288 with 1 Axes>"
      ]
     },
     "metadata": {},
     "output_type": "display_data"
    }
   ],
   "source": [
    "plt.imshow(average.mean(axis=0));\n",
    "plt.axis('off');"
   ]
  },
  {
   "cell_type": "code",
   "execution_count": 55,
   "metadata": {},
   "outputs": [
    {
     "data": {
      "image/png": "[encoded data removed]",
      "text/plain": [
       "<Figure size 432x288 with 1 Axes>"
      ]
     },
     "metadata": {},
     "output_type": "display_data"
    }
   ],
   "source": [
    "plt.imshow(average.mean(axis=1), aspect = pxPerUmLat/pxPerUmAx);\n",
    "plt.axis('off');"
   ]
  },
  {
   "cell_type": "code",
   "execution_count": 31,
   "metadata": {},
   "outputs": [
    {
     "data": {
      "image/png": "[encoded data removed]",
      "text/plain": [
       "<Figure size 432x288 with 1 Axes>"
      ]
     },
     "metadata": {},
     "output_type": "display_data"
    }
   ],
   "source": [
    "plt.imshow(average.mean(axis=2), aspect = pxPerUmLat/pxPerUmAx);\n",
    "plt.axis('off');"
   ]
  },
  {
   "cell_type": "markdown",
   "metadata": {},
   "source": [
    "## Plotting"
   ]
  },
  {
   "cell_type": "code",
   "execution_count": 32,
   "metadata": {
    "scrolled": true
   },
   "outputs": [
    {
     "data": {
      "image/png": "[encoded data removed]",
      "text/plain": [
       "<Figure size 432x288 with 1 Axes>"
      ]
     },
     "metadata": {},
     "output_type": "display_data"
    }
   ],
   "source": [
    "plotPSF(latProfile[beadInd][0],latProfile[beadInd][1],latProfile[beadInd][2],latProfile[beadInd][3],pxPerUmLat,PSF.Max.iloc[beadInd])"
   ]
  },
  {
   "cell_type": "code",
   "execution_count": 33,
   "metadata": {},
   "outputs": [
    {
     "data": {
      "image/png": "[encoded data removed]",
      "text/plain": [
       "<Figure size 432x288 with 1 Axes>"
      ]
     },
     "metadata": {},
     "output_type": "display_data"
    }
   ],
   "source": [
    "plotPSF(axProfile[beadInd][0],axProfile[beadInd][1],axProfile[beadInd][2],axProfile[beadInd][3],pxPerUmAx,PSF.Max.iloc[beadInd])"
   ]
  },
  {
   "cell_type": "code",
   "execution_count": null,
   "metadata": {
    "collapsed": true
   },
   "outputs": [],
   "source": []
  }
 ],
 "metadata": {
  "anaconda-cloud": {},
  "kernelspec": {
   "display_name": "Python 3",
   "language": "python",
   "name": "python3"
  },
  "language_info": {
   "codemirror_mode": {
    "name": "ipython",
    "version": 3
   },
   "file_extension": ".py",
   "mimetype": "text/x-python",
   "name": "python",
   "nbconvert_exporter": "python",
   "pygments_lexer": "ipython3",
   "version": "3.7.4"
  }
 },
 "nbformat": 4,
 "nbformat_minor": 1
}
